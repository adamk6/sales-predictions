{
  "nbformat": 4,
  "nbformat_minor": 0,
  "metadata": {
    "colab": {
      "name": "salesPrediction.ipynb",
      "provenance": [],
      "collapsed_sections": []
    },
    "kernelspec": {
      "name": "python3",
      "display_name": "Python 3"
    },
    "language_info": {
      "name": "python"
    }
  },
  "cells": [
    {
      "cell_type": "code",
      "metadata": {
        "colab": {
          "base_uri": "https://localhost:8080/",
          "height": 289
        },
        "id": "Bz8JJQwneAHM",
        "outputId": "ae8a3108-a938-403f-83b6-bb17d4117d62"
      },
      "source": [
        "import pandas as pd\n",
        "import matplotlib.pyplot as plt\n",
        "import numpy as np\n",
        "import seaborn as sns\n",
        "\n",
        "\n",
        "df=pd.read_csv('/content/drive/MyDrive/PTDataScience/assignments/sales_predictions.csv')\n",
        "df.head()"
      ],
      "execution_count": 18,
      "outputs": [
        {
          "output_type": "execute_result",
          "data": {
            "text/html": [
              "<div>\n",
              "<style scoped>\n",
              "    .dataframe tbody tr th:only-of-type {\n",
              "        vertical-align: middle;\n",
              "    }\n",
              "\n",
              "    .dataframe tbody tr th {\n",
              "        vertical-align: top;\n",
              "    }\n",
              "\n",
              "    .dataframe thead th {\n",
              "        text-align: right;\n",
              "    }\n",
              "</style>\n",
              "<table border=\"1\" class=\"dataframe\">\n",
              "  <thead>\n",
              "    <tr style=\"text-align: right;\">\n",
              "      <th></th>\n",
              "      <th>Item_Identifier</th>\n",
              "      <th>Item_Weight</th>\n",
              "      <th>Item_Fat_Content</th>\n",
              "      <th>Item_Visibility</th>\n",
              "      <th>Item_Type</th>\n",
              "      <th>Item_MRP</th>\n",
              "      <th>Outlet_Identifier</th>\n",
              "      <th>Outlet_Establishment_Year</th>\n",
              "      <th>Outlet_Size</th>\n",
              "      <th>Outlet_Location_Type</th>\n",
              "      <th>Outlet_Type</th>\n",
              "      <th>Item_Outlet_Sales</th>\n",
              "    </tr>\n",
              "  </thead>\n",
              "  <tbody>\n",
              "    <tr>\n",
              "      <th>0</th>\n",
              "      <td>FDA15</td>\n",
              "      <td>9.30</td>\n",
              "      <td>Low Fat</td>\n",
              "      <td>0.016047</td>\n",
              "      <td>Dairy</td>\n",
              "      <td>249.8092</td>\n",
              "      <td>OUT049</td>\n",
              "      <td>1999</td>\n",
              "      <td>Medium</td>\n",
              "      <td>Tier 1</td>\n",
              "      <td>Supermarket Type1</td>\n",
              "      <td>3735.1380</td>\n",
              "    </tr>\n",
              "    <tr>\n",
              "      <th>1</th>\n",
              "      <td>DRC01</td>\n",
              "      <td>5.92</td>\n",
              "      <td>Regular</td>\n",
              "      <td>0.019278</td>\n",
              "      <td>Soft Drinks</td>\n",
              "      <td>48.2692</td>\n",
              "      <td>OUT018</td>\n",
              "      <td>2009</td>\n",
              "      <td>Medium</td>\n",
              "      <td>Tier 3</td>\n",
              "      <td>Supermarket Type2</td>\n",
              "      <td>443.4228</td>\n",
              "    </tr>\n",
              "    <tr>\n",
              "      <th>2</th>\n",
              "      <td>FDN15</td>\n",
              "      <td>17.50</td>\n",
              "      <td>Low Fat</td>\n",
              "      <td>0.016760</td>\n",
              "      <td>Meat</td>\n",
              "      <td>141.6180</td>\n",
              "      <td>OUT049</td>\n",
              "      <td>1999</td>\n",
              "      <td>Medium</td>\n",
              "      <td>Tier 1</td>\n",
              "      <td>Supermarket Type1</td>\n",
              "      <td>2097.2700</td>\n",
              "    </tr>\n",
              "    <tr>\n",
              "      <th>3</th>\n",
              "      <td>FDX07</td>\n",
              "      <td>19.20</td>\n",
              "      <td>Regular</td>\n",
              "      <td>0.000000</td>\n",
              "      <td>Fruits and Vegetables</td>\n",
              "      <td>182.0950</td>\n",
              "      <td>OUT010</td>\n",
              "      <td>1998</td>\n",
              "      <td>NaN</td>\n",
              "      <td>Tier 3</td>\n",
              "      <td>Grocery Store</td>\n",
              "      <td>732.3800</td>\n",
              "    </tr>\n",
              "    <tr>\n",
              "      <th>4</th>\n",
              "      <td>NCD19</td>\n",
              "      <td>8.93</td>\n",
              "      <td>Low Fat</td>\n",
              "      <td>0.000000</td>\n",
              "      <td>Household</td>\n",
              "      <td>53.8614</td>\n",
              "      <td>OUT013</td>\n",
              "      <td>1987</td>\n",
              "      <td>High</td>\n",
              "      <td>Tier 3</td>\n",
              "      <td>Supermarket Type1</td>\n",
              "      <td>994.7052</td>\n",
              "    </tr>\n",
              "  </tbody>\n",
              "</table>\n",
              "</div>"
            ],
            "text/plain": [
              "  Item_Identifier  Item_Weight  ...        Outlet_Type  Item_Outlet_Sales\n",
              "0           FDA15         9.30  ...  Supermarket Type1          3735.1380\n",
              "1           DRC01         5.92  ...  Supermarket Type2           443.4228\n",
              "2           FDN15        17.50  ...  Supermarket Type1          2097.2700\n",
              "3           FDX07        19.20  ...      Grocery Store           732.3800\n",
              "4           NCD19         8.93  ...  Supermarket Type1           994.7052\n",
              "\n",
              "[5 rows x 12 columns]"
            ]
          },
          "metadata": {
            "tags": []
          },
          "execution_count": 18
        }
      ]
    },
    {
      "cell_type": "code",
      "metadata": {
        "colab": {
          "base_uri": "https://localhost:8080/"
        },
        "id": "Xa1ISBpbese3",
        "outputId": "1d0432f9-79e6-4c6e-ce5d-872f01b8c4fb"
      },
      "source": [
        "df.info()"
      ],
      "execution_count": 19,
      "outputs": [
        {
          "output_type": "stream",
          "text": [
            "<class 'pandas.core.frame.DataFrame'>\n",
            "RangeIndex: 8523 entries, 0 to 8522\n",
            "Data columns (total 12 columns):\n",
            " #   Column                     Non-Null Count  Dtype  \n",
            "---  ------                     --------------  -----  \n",
            " 0   Item_Identifier            8523 non-null   object \n",
            " 1   Item_Weight                7060 non-null   float64\n",
            " 2   Item_Fat_Content           8523 non-null   object \n",
            " 3   Item_Visibility            8523 non-null   float64\n",
            " 4   Item_Type                  8523 non-null   object \n",
            " 5   Item_MRP                   8523 non-null   float64\n",
            " 6   Outlet_Identifier          8523 non-null   object \n",
            " 7   Outlet_Establishment_Year  8523 non-null   int64  \n",
            " 8   Outlet_Size                6113 non-null   object \n",
            " 9   Outlet_Location_Type       8523 non-null   object \n",
            " 10  Outlet_Type                8523 non-null   object \n",
            " 11  Item_Outlet_Sales          8523 non-null   float64\n",
            "dtypes: float64(4), int64(1), object(7)\n",
            "memory usage: 799.2+ KB\n"
          ],
          "name": "stdout"
        }
      ]
    },
    {
      "cell_type": "code",
      "metadata": {
        "colab": {
          "base_uri": "https://localhost:8080/"
        },
        "id": "N4XVfY1DnkJY",
        "outputId": "290b76e7-4e9d-4e5b-b16a-528d7f83439a"
      },
      "source": [
        "# checking for duplicate entries\n",
        "\n",
        "duplicateRows = df[df.duplicated()]\n",
        "print(duplicateRows)"
      ],
      "execution_count": 20,
      "outputs": [
        {
          "output_type": "stream",
          "text": [
            "Empty DataFrame\n",
            "Columns: [Item_Identifier, Item_Weight, Item_Fat_Content, Item_Visibility, Item_Type, Item_MRP, Outlet_Identifier, Outlet_Establishment_Year, Outlet_Size, Outlet_Location_Type, Outlet_Type, Item_Outlet_Sales]\n",
            "Index: []\n"
          ],
          "name": "stdout"
        }
      ]
    },
    {
      "cell_type": "code",
      "metadata": {
        "colab": {
          "base_uri": "https://localhost:8080/"
        },
        "id": "UAeKeuNKf54A",
        "outputId": "9532d517-ebfa-4fac-826e-98ef3493dcb7"
      },
      "source": [
        "# check for inconsistiences in the label in this column\n",
        "\n",
        "df['Item_Fat_Content'].value_counts()"
      ],
      "execution_count": 21,
      "outputs": [
        {
          "output_type": "execute_result",
          "data": {
            "text/plain": [
              "Low Fat    5089\n",
              "Regular    2889\n",
              "LF          316\n",
              "reg         117\n",
              "low fat     112\n",
              "Name: Item_Fat_Content, dtype: int64"
            ]
          },
          "metadata": {
            "tags": []
          },
          "execution_count": 21
        }
      ]
    },
    {
      "cell_type": "code",
      "metadata": {
        "colab": {
          "base_uri": "https://localhost:8080/"
        },
        "id": "oUour91Sg_gH",
        "outputId": "9ad3711f-8c43-4af2-c3f1-2879664aa46c"
      },
      "source": [
        "# check for inconsistiences in the label in this column\n",
        "\n",
        "df['Item_Type'].value_counts()"
      ],
      "execution_count": 22,
      "outputs": [
        {
          "output_type": "execute_result",
          "data": {
            "text/plain": [
              "Fruits and Vegetables    1232\n",
              "Snack Foods              1200\n",
              "Household                 910\n",
              "Frozen Foods              856\n",
              "Dairy                     682\n",
              "Canned                    649\n",
              "Baking Goods              648\n",
              "Health and Hygiene        520\n",
              "Soft Drinks               445\n",
              "Meat                      425\n",
              "Breads                    251\n",
              "Hard Drinks               214\n",
              "Others                    169\n",
              "Starchy Foods             148\n",
              "Breakfast                 110\n",
              "Seafood                    64\n",
              "Name: Item_Type, dtype: int64"
            ]
          },
          "metadata": {
            "tags": []
          },
          "execution_count": 22
        }
      ]
    },
    {
      "cell_type": "code",
      "metadata": {
        "colab": {
          "base_uri": "https://localhost:8080/"
        },
        "id": "6kbB2OB2hGah",
        "outputId": "8a01811a-e281-4278-9690-d2bd3ce44004"
      },
      "source": [
        "# check for inconsistiences in the label in this column\n",
        "\n",
        "df['Outlet_Type'].value_counts()"
      ],
      "execution_count": 23,
      "outputs": [
        {
          "output_type": "execute_result",
          "data": {
            "text/plain": [
              "Supermarket Type1    5577\n",
              "Grocery Store        1083\n",
              "Supermarket Type3     935\n",
              "Supermarket Type2     928\n",
              "Name: Outlet_Type, dtype: int64"
            ]
          },
          "metadata": {
            "tags": []
          },
          "execution_count": 23
        }
      ]
    },
    {
      "cell_type": "code",
      "metadata": {
        "colab": {
          "base_uri": "https://localhost:8080/"
        },
        "id": "Dm_GfzpDhP9_",
        "outputId": "9d8507c2-b989-4c76-8e1f-5b9aecfe6c38"
      },
      "source": [
        "# check for inconsistiences in the label in this column\n",
        "\n",
        "df['Outlet_Identifier'].value_counts()"
      ],
      "execution_count": 24,
      "outputs": [
        {
          "output_type": "execute_result",
          "data": {
            "text/plain": [
              "OUT027    935\n",
              "OUT013    932\n",
              "OUT046    930\n",
              "OUT035    930\n",
              "OUT049    930\n",
              "OUT045    929\n",
              "OUT018    928\n",
              "OUT017    926\n",
              "OUT010    555\n",
              "OUT019    528\n",
              "Name: Outlet_Identifier, dtype: int64"
            ]
          },
          "metadata": {
            "tags": []
          },
          "execution_count": 24
        }
      ]
    },
    {
      "cell_type": "code",
      "metadata": {
        "id": "DCNeSzhuikTI"
      },
      "source": [
        "#replace missing Item_Weight with 0. Since there is not way to know the weights and the column may be valuable in the future.\n",
        "\n",
        "\n",
        "df['Item_Weight'].fillna(value=0, inplace=True)"
      ],
      "execution_count": 25,
      "outputs": []
    },
    {
      "cell_type": "code",
      "metadata": {
        "id": "iJ9o1QuukHB8"
      },
      "source": [
        "#replace missing Item_Weight with 0. Since there is not way to know the weights and the column may be valuable in the future.\n",
        "\n",
        "\n",
        "df['Outlet_Size'].fillna(value= 'Not Known', inplace=True)"
      ],
      "execution_count": 26,
      "outputs": []
    },
    {
      "cell_type": "code",
      "metadata": {
        "colab": {
          "base_uri": "https://localhost:8080/"
        },
        "id": "-ARYItCHjt-B",
        "outputId": "8f27c95c-479a-4e3f-840e-506b89d954d8"
      },
      "source": [
        "#check to see that the replace done above worked\n",
        "\n",
        "df.info()"
      ],
      "execution_count": 27,
      "outputs": [
        {
          "output_type": "stream",
          "text": [
            "<class 'pandas.core.frame.DataFrame'>\n",
            "RangeIndex: 8523 entries, 0 to 8522\n",
            "Data columns (total 12 columns):\n",
            " #   Column                     Non-Null Count  Dtype  \n",
            "---  ------                     --------------  -----  \n",
            " 0   Item_Identifier            8523 non-null   object \n",
            " 1   Item_Weight                8523 non-null   float64\n",
            " 2   Item_Fat_Content           8523 non-null   object \n",
            " 3   Item_Visibility            8523 non-null   float64\n",
            " 4   Item_Type                  8523 non-null   object \n",
            " 5   Item_MRP                   8523 non-null   float64\n",
            " 6   Outlet_Identifier          8523 non-null   object \n",
            " 7   Outlet_Establishment_Year  8523 non-null   int64  \n",
            " 8   Outlet_Size                8523 non-null   object \n",
            " 9   Outlet_Location_Type       8523 non-null   object \n",
            " 10  Outlet_Type                8523 non-null   object \n",
            " 11  Item_Outlet_Sales          8523 non-null   float64\n",
            "dtypes: float64(4), int64(1), object(7)\n",
            "memory usage: 799.2+ KB\n"
          ],
          "name": "stdout"
        }
      ]
    },
    {
      "cell_type": "code",
      "metadata": {
        "colab": {
          "base_uri": "https://localhost:8080/"
        },
        "id": "cK6EyPNil4wc",
        "outputId": "84ba97d5-3bdc-45be-fd6c-59ee57aacefe"
      },
      "source": [
        "# replace -  normalize the labels in the Item_Fat_Content column\n",
        "\n",
        "df['Item_Fat_Content'].replace('LF','Low Fat',inplace =True)\n",
        "df['Item_Fat_Content'].replace('reg','Regular',inplace =True)\n",
        "df['Item_Fat_Content'].replace('low fat','Low Fat',inplace =True)\n",
        "\n",
        "df['Item_Fat_Content'].value_counts()"
      ],
      "execution_count": 28,
      "outputs": [
        {
          "output_type": "execute_result",
          "data": {
            "text/plain": [
              "Low Fat    5517\n",
              "Regular    3006\n",
              "Name: Item_Fat_Content, dtype: int64"
            ]
          },
          "metadata": {
            "tags": []
          },
          "execution_count": 28
        }
      ]
    },
    {
      "cell_type": "code",
      "metadata": {
        "colab": {
          "base_uri": "https://localhost:8080/",
          "height": 450
        },
        "id": "Ke--lEyMrbsP",
        "outputId": "a0ae67c2-c976-4c99-9c2f-f40324306660"
      },
      "source": [
        "# sales by Store and Item\n",
        "\n",
        "df.groupby(['Outlet_Identifier', 'Item_Identifier'])[['Item_Outlet_Sales']].sum()"
      ],
      "execution_count": 29,
      "outputs": [
        {
          "output_type": "execute_result",
          "data": {
            "text/html": [
              "<div>\n",
              "<style scoped>\n",
              "    .dataframe tbody tr th:only-of-type {\n",
              "        vertical-align: middle;\n",
              "    }\n",
              "\n",
              "    .dataframe tbody tr th {\n",
              "        vertical-align: top;\n",
              "    }\n",
              "\n",
              "    .dataframe thead th {\n",
              "        text-align: right;\n",
              "    }\n",
              "</style>\n",
              "<table border=\"1\" class=\"dataframe\">\n",
              "  <thead>\n",
              "    <tr style=\"text-align: right;\">\n",
              "      <th></th>\n",
              "      <th></th>\n",
              "      <th>Item_Outlet_Sales</th>\n",
              "    </tr>\n",
              "    <tr>\n",
              "      <th>Outlet_Identifier</th>\n",
              "      <th>Item_Identifier</th>\n",
              "      <th></th>\n",
              "    </tr>\n",
              "  </thead>\n",
              "  <tbody>\n",
              "    <tr>\n",
              "      <th rowspan=\"5\" valign=\"top\">OUT010</th>\n",
              "      <th>DRA12</th>\n",
              "      <td>283.6308</td>\n",
              "    </tr>\n",
              "    <tr>\n",
              "      <th>DRA24</th>\n",
              "      <td>327.5736</td>\n",
              "    </tr>\n",
              "    <tr>\n",
              "      <th>DRA59</th>\n",
              "      <td>185.0924</td>\n",
              "    </tr>\n",
              "    <tr>\n",
              "      <th>DRB13</th>\n",
              "      <td>948.7650</td>\n",
              "    </tr>\n",
              "    <tr>\n",
              "      <th>DRB25</th>\n",
              "      <td>214.3876</td>\n",
              "    </tr>\n",
              "    <tr>\n",
              "      <th>...</th>\n",
              "      <th>...</th>\n",
              "      <td>...</td>\n",
              "    </tr>\n",
              "    <tr>\n",
              "      <th rowspan=\"5\" valign=\"top\">OUT049</th>\n",
              "      <th>NCZ18</th>\n",
              "      <td>5580.7356</td>\n",
              "    </tr>\n",
              "    <tr>\n",
              "      <th>NCZ30</th>\n",
              "      <td>2530.7058</td>\n",
              "    </tr>\n",
              "    <tr>\n",
              "      <th>NCZ42</th>\n",
              "      <td>4740.4960</td>\n",
              "    </tr>\n",
              "    <tr>\n",
              "      <th>NCZ53</th>\n",
              "      <td>3956.8494</td>\n",
              "    </tr>\n",
              "    <tr>\n",
              "      <th>NCZ54</th>\n",
              "      <td>7148.0288</td>\n",
              "    </tr>\n",
              "  </tbody>\n",
              "</table>\n",
              "<p>8523 rows × 1 columns</p>\n",
              "</div>"
            ],
            "text/plain": [
              "                                   Item_Outlet_Sales\n",
              "Outlet_Identifier Item_Identifier                   \n",
              "OUT010            DRA12                     283.6308\n",
              "                  DRA24                     327.5736\n",
              "                  DRA59                     185.0924\n",
              "                  DRB13                     948.7650\n",
              "                  DRB25                     214.3876\n",
              "...                                              ...\n",
              "OUT049            NCZ18                    5580.7356\n",
              "                  NCZ30                    2530.7058\n",
              "                  NCZ42                    4740.4960\n",
              "                  NCZ53                    3956.8494\n",
              "                  NCZ54                    7148.0288\n",
              "\n",
              "[8523 rows x 1 columns]"
            ]
          },
          "metadata": {
            "tags": []
          },
          "execution_count": 29
        }
      ]
    },
    {
      "cell_type": "code",
      "metadata": {
        "colab": {
          "base_uri": "https://localhost:8080/",
          "height": 450
        },
        "id": "A-Fcc9g9uc4I",
        "outputId": "094bf454-bd4d-4324-a259-f044bdee1345"
      },
      "source": [
        "# sales by item and Store\n",
        "\n",
        "df.groupby(['Item_Identifier','Outlet_Identifier'])[['Item_Outlet_Sales']].sum()\n"
      ],
      "execution_count": 30,
      "outputs": [
        {
          "output_type": "execute_result",
          "data": {
            "text/html": [
              "<div>\n",
              "<style scoped>\n",
              "    .dataframe tbody tr th:only-of-type {\n",
              "        vertical-align: middle;\n",
              "    }\n",
              "\n",
              "    .dataframe tbody tr th {\n",
              "        vertical-align: top;\n",
              "    }\n",
              "\n",
              "    .dataframe thead th {\n",
              "        text-align: right;\n",
              "    }\n",
              "</style>\n",
              "<table border=\"1\" class=\"dataframe\">\n",
              "  <thead>\n",
              "    <tr style=\"text-align: right;\">\n",
              "      <th></th>\n",
              "      <th></th>\n",
              "      <th>Item_Outlet_Sales</th>\n",
              "    </tr>\n",
              "    <tr>\n",
              "      <th>Item_Identifier</th>\n",
              "      <th>Outlet_Identifier</th>\n",
              "      <th></th>\n",
              "    </tr>\n",
              "  </thead>\n",
              "  <tbody>\n",
              "    <tr>\n",
              "      <th rowspan=\"5\" valign=\"top\">DRA12</th>\n",
              "      <th>OUT010</th>\n",
              "      <td>283.6308</td>\n",
              "    </tr>\n",
              "    <tr>\n",
              "      <th>OUT013</th>\n",
              "      <td>2552.6772</td>\n",
              "    </tr>\n",
              "    <tr>\n",
              "      <th>OUT017</th>\n",
              "      <td>2552.6772</td>\n",
              "    </tr>\n",
              "    <tr>\n",
              "      <th>OUT018</th>\n",
              "      <td>850.8924</td>\n",
              "    </tr>\n",
              "    <tr>\n",
              "      <th>OUT035</th>\n",
              "      <td>992.7078</td>\n",
              "    </tr>\n",
              "    <tr>\n",
              "      <th>...</th>\n",
              "      <th>...</th>\n",
              "      <td>...</td>\n",
              "    </tr>\n",
              "    <tr>\n",
              "      <th rowspan=\"5\" valign=\"top\">NCZ54</th>\n",
              "      <th>OUT019</th>\n",
              "      <td>162.4552</td>\n",
              "    </tr>\n",
              "    <tr>\n",
              "      <th>OUT027</th>\n",
              "      <td>5523.4768</td>\n",
              "    </tr>\n",
              "    <tr>\n",
              "      <th>OUT045</th>\n",
              "      <td>2274.3728</td>\n",
              "    </tr>\n",
              "    <tr>\n",
              "      <th>OUT046</th>\n",
              "      <td>4711.2008</td>\n",
              "    </tr>\n",
              "    <tr>\n",
              "      <th>OUT049</th>\n",
              "      <td>7148.0288</td>\n",
              "    </tr>\n",
              "  </tbody>\n",
              "</table>\n",
              "<p>8523 rows × 1 columns</p>\n",
              "</div>"
            ],
            "text/plain": [
              "                                   Item_Outlet_Sales\n",
              "Item_Identifier Outlet_Identifier                   \n",
              "DRA12           OUT010                      283.6308\n",
              "                OUT013                     2552.6772\n",
              "                OUT017                     2552.6772\n",
              "                OUT018                      850.8924\n",
              "                OUT035                      992.7078\n",
              "...                                              ...\n",
              "NCZ54           OUT019                      162.4552\n",
              "                OUT027                     5523.4768\n",
              "                OUT045                     2274.3728\n",
              "                OUT046                     4711.2008\n",
              "                OUT049                     7148.0288\n",
              "\n",
              "[8523 rows x 1 columns]"
            ]
          },
          "metadata": {
            "tags": []
          },
          "execution_count": 30
        }
      ]
    },
    {
      "cell_type": "code",
      "metadata": {
        "colab": {
          "base_uri": "https://localhost:8080/",
          "height": 390
        },
        "id": "9oV_ALYpvgDV",
        "outputId": "8c7548d5-cdf7-4bf1-eaf4-2efd2470cf08"
      },
      "source": [
        "# Sales by store\n",
        "# sales by item and Store\n",
        "\n",
        "df.groupby(['Outlet_Identifier'])[['Item_Outlet_Sales']].sum()"
      ],
      "execution_count": 31,
      "outputs": [
        {
          "output_type": "execute_result",
          "data": {
            "text/html": [
              "<div>\n",
              "<style scoped>\n",
              "    .dataframe tbody tr th:only-of-type {\n",
              "        vertical-align: middle;\n",
              "    }\n",
              "\n",
              "    .dataframe tbody tr th {\n",
              "        vertical-align: top;\n",
              "    }\n",
              "\n",
              "    .dataframe thead th {\n",
              "        text-align: right;\n",
              "    }\n",
              "</style>\n",
              "<table border=\"1\" class=\"dataframe\">\n",
              "  <thead>\n",
              "    <tr style=\"text-align: right;\">\n",
              "      <th></th>\n",
              "      <th>Item_Outlet_Sales</th>\n",
              "    </tr>\n",
              "    <tr>\n",
              "      <th>Outlet_Identifier</th>\n",
              "      <th></th>\n",
              "    </tr>\n",
              "  </thead>\n",
              "  <tbody>\n",
              "    <tr>\n",
              "      <th>OUT010</th>\n",
              "      <td>1.883402e+05</td>\n",
              "    </tr>\n",
              "    <tr>\n",
              "      <th>OUT013</th>\n",
              "      <td>2.142664e+06</td>\n",
              "    </tr>\n",
              "    <tr>\n",
              "      <th>OUT017</th>\n",
              "      <td>2.167465e+06</td>\n",
              "    </tr>\n",
              "    <tr>\n",
              "      <th>OUT018</th>\n",
              "      <td>1.851823e+06</td>\n",
              "    </tr>\n",
              "    <tr>\n",
              "      <th>OUT019</th>\n",
              "      <td>1.796941e+05</td>\n",
              "    </tr>\n",
              "    <tr>\n",
              "      <th>OUT027</th>\n",
              "      <td>3.453926e+06</td>\n",
              "    </tr>\n",
              "    <tr>\n",
              "      <th>OUT035</th>\n",
              "      <td>2.268123e+06</td>\n",
              "    </tr>\n",
              "    <tr>\n",
              "      <th>OUT045</th>\n",
              "      <td>2.036725e+06</td>\n",
              "    </tr>\n",
              "    <tr>\n",
              "      <th>OUT046</th>\n",
              "      <td>2.118395e+06</td>\n",
              "    </tr>\n",
              "    <tr>\n",
              "      <th>OUT049</th>\n",
              "      <td>2.183970e+06</td>\n",
              "    </tr>\n",
              "  </tbody>\n",
              "</table>\n",
              "</div>"
            ],
            "text/plain": [
              "                   Item_Outlet_Sales\n",
              "Outlet_Identifier                   \n",
              "OUT010                  1.883402e+05\n",
              "OUT013                  2.142664e+06\n",
              "OUT017                  2.167465e+06\n",
              "OUT018                  1.851823e+06\n",
              "OUT019                  1.796941e+05\n",
              "OUT027                  3.453926e+06\n",
              "OUT035                  2.268123e+06\n",
              "OUT045                  2.036725e+06\n",
              "OUT046                  2.118395e+06\n",
              "OUT049                  2.183970e+06"
            ]
          },
          "metadata": {
            "tags": []
          },
          "execution_count": 31
        }
      ]
    },
    {
      "cell_type": "code",
      "metadata": {
        "colab": {
          "base_uri": "https://localhost:8080/",
          "height": 204
        },
        "id": "BNiripHkwEcp",
        "outputId": "fe6ba13b-07d2-47a8-f4b7-b77be5d1c58f"
      },
      "source": [
        "# sales by outlet type\n",
        "\n",
        "df.groupby(['Outlet_Type'])[['Item_Outlet_Sales']].sum()"
      ],
      "execution_count": 32,
      "outputs": [
        {
          "output_type": "execute_result",
          "data": {
            "text/html": [
              "<div>\n",
              "<style scoped>\n",
              "    .dataframe tbody tr th:only-of-type {\n",
              "        vertical-align: middle;\n",
              "    }\n",
              "\n",
              "    .dataframe tbody tr th {\n",
              "        vertical-align: top;\n",
              "    }\n",
              "\n",
              "    .dataframe thead th {\n",
              "        text-align: right;\n",
              "    }\n",
              "</style>\n",
              "<table border=\"1\" class=\"dataframe\">\n",
              "  <thead>\n",
              "    <tr style=\"text-align: right;\">\n",
              "      <th></th>\n",
              "      <th>Item_Outlet_Sales</th>\n",
              "    </tr>\n",
              "    <tr>\n",
              "      <th>Outlet_Type</th>\n",
              "      <th></th>\n",
              "    </tr>\n",
              "  </thead>\n",
              "  <tbody>\n",
              "    <tr>\n",
              "      <th>Grocery Store</th>\n",
              "      <td>3.680343e+05</td>\n",
              "    </tr>\n",
              "    <tr>\n",
              "      <th>Supermarket Type1</th>\n",
              "      <td>1.291734e+07</td>\n",
              "    </tr>\n",
              "    <tr>\n",
              "      <th>Supermarket Type2</th>\n",
              "      <td>1.851823e+06</td>\n",
              "    </tr>\n",
              "    <tr>\n",
              "      <th>Supermarket Type3</th>\n",
              "      <td>3.453926e+06</td>\n",
              "    </tr>\n",
              "  </tbody>\n",
              "</table>\n",
              "</div>"
            ],
            "text/plain": [
              "                   Item_Outlet_Sales\n",
              "Outlet_Type                         \n",
              "Grocery Store           3.680343e+05\n",
              "Supermarket Type1       1.291734e+07\n",
              "Supermarket Type2       1.851823e+06\n",
              "Supermarket Type3       3.453926e+06"
            ]
          },
          "metadata": {
            "tags": []
          },
          "execution_count": 32
        }
      ]
    },
    {
      "cell_type": "markdown",
      "metadata": {
        "id": "V4tlMMKi8osB"
      },
      "source": [
        "# **PROJECT 1 - PART 3**"
      ]
    },
    {
      "cell_type": "markdown",
      "metadata": {
        "id": "k8ectV0egxs2"
      },
      "source": [
        "## Sales by item type"
      ]
    },
    {
      "cell_type": "code",
      "metadata": {
        "colab": {
          "base_uri": "https://localhost:8080/",
          "height": 364
        },
        "id": "pbFnuzXU81D8",
        "outputId": "a41babef-74f5-40a2-ca38-506fae14ace7"
      },
      "source": [
        "plt.bar(df['Item_Type'], df['Item_Outlet_Sales'], color='blue',);\n",
        "\n",
        "plt.xticks(rotation = 90,fontsize = 6);\n",
        "plt.yticks(rotation = 45);\n",
        "plt.xlabel('Item Type', fontsize=8)\n",
        "plt.ylabel('Amount', fontsize= 8)\n",
        "plt.title('Sales by Item Type', fontsize = 10)\n",
        "plt.legend(loc=(1.02,0));\n",
        "plt.grid(axis = 'y')"
      ],
      "execution_count": 35,
      "outputs": [
        {
          "output_type": "stream",
          "text": [
            "No handles with labels found to put in legend.\n"
          ],
          "name": "stderr"
        },
        {
          "output_type": "display_data",
          "data": {
            "image/png": "[encoded data removed]",
            "text/plain": [
              "<Figure size 432x288 with 1 Axes>"
            ]
          },
          "metadata": {
            "tags": [],
            "needs_background": "light"
          }
        }
      ]
    },
    {
      "cell_type": "markdown",
      "metadata": {
        "id": "3-GhcKdbhJvI"
      },
      "source": [
        "## Sales by item"
      ]
    },
    {
      "cell_type": "code",
      "metadata": {
        "colab": {
          "base_uri": "https://localhost:8080/"
        },
        "id": "ZfA07FnsL5eN",
        "outputId": "c0d6af9f-ebae-43a7-8d80-3655abde4e7f"
      },
      "source": [
        "top20ItemsFilter = df.groupby(['Item_Identifier'])['Item_Outlet_Sales'].sum().sort_values(ascending = False).head(20)\n",
        "top20ItemsFilter"
      ],
      "execution_count": 56,
      "outputs": [
        {
          "output_type": "execute_result",
          "data": {
            "text/plain": [
              "Item_Identifier\n",
              "FDY55    42661.8008\n",
              "FDA15    41584.5364\n",
              "FDZ20    40185.0248\n",
              "FDF05    36555.7490\n",
              "FDA04    35741.4756\n",
              "FDK03    34843.9772\n",
              "NCQ06    34680.1904\n",
              "NCQ53    34508.4140\n",
              "FDJ55    33531.0196\n",
              "FDD44    32723.4042\n",
              "FDD29    32469.7344\n",
              "FDC17    31979.7056\n",
              "FDT21    31873.1776\n",
              "FDK40    31821.9110\n",
              "FDI50    31377.8224\n",
              "FDN58    31279.2840\n",
              "FDO37    30958.3684\n",
              "FDL58    30584.1888\n",
              "FDQ52    30546.2382\n",
              "FDT07    30247.2940\n",
              "Name: Item_Outlet_Sales, dtype: float64"
            ]
          },
          "metadata": {
            "tags": []
          },
          "execution_count": 56
        }
      ]
    },
    {
      "cell_type": "code",
      "metadata": {
        "colab": {
          "base_uri": "https://localhost:8080/",
          "height": 320
        },
        "id": "qe9aPFgqL6s9",
        "outputId": "55453bff-f832-47ea-e0f9-3514bf4d906a"
      },
      "source": [
        "plt.bar(top20ItemsFilter.index,top20ItemsFilter.values)\n",
        "\n",
        "plt.xticks(rotation = 90,fontsize = 6);\n",
        "plt.yticks(rotation = 45);\n",
        "plt.xlabel('Item', fontsize=8)\n",
        "plt.ylabel('Amount', fontsize= 8)\n",
        "plt.title('Sales by Item ', fontsize = 10)\n",
        "plt.legend(loc=(1.02,0));\n",
        "plt.grid(axis = 'y')"
      ],
      "execution_count": 58,
      "outputs": [
        {
          "output_type": "stream",
          "text": [
            "No handles with labels found to put in legend.\n"
          ],
          "name": "stderr"
        },
        {
          "output_type": "display_data",
          "data": {
            "image/png": "[encoded data removed]",
            "text/plain": [
              "<Figure size 432x288 with 1 Axes>"
            ]
          },
          "metadata": {
            "tags": [],
            "needs_background": "light"
          }
        }
      ]
    },
    {
      "cell_type": "markdown",
      "metadata": {
        "id": "_Towsl0OhQLg"
      },
      "source": [
        "## Sales by Store"
      ]
    },
    {
      "cell_type": "code",
      "metadata": {
        "colab": {
          "base_uri": "https://localhost:8080/",
          "height": 359
        },
        "id": "PVrOIIAjDYCK",
        "outputId": "f07ab9bc-a3ce-4f6e-961c-fc753b7724c9"
      },
      "source": [
        "\n",
        "top20storeFilter = pd.DataFrame(df.groupby(['Outlet_Identifier'])['Item_Outlet_Sales'].sum().sort_values(ascending = False).head(20)).reset_index()\n",
        "top20storeFilter"
      ],
      "execution_count": 69,
      "outputs": [
        {
          "output_type": "execute_result",
          "data": {
            "text/html": [
              "<div>\n",
              "<style scoped>\n",
              "    .dataframe tbody tr th:only-of-type {\n",
              "        vertical-align: middle;\n",
              "    }\n",
              "\n",
              "    .dataframe tbody tr th {\n",
              "        vertical-align: top;\n",
              "    }\n",
              "\n",
              "    .dataframe thead th {\n",
              "        text-align: right;\n",
              "    }\n",
              "</style>\n",
              "<table border=\"1\" class=\"dataframe\">\n",
              "  <thead>\n",
              "    <tr style=\"text-align: right;\">\n",
              "      <th></th>\n",
              "      <th>Outlet_Identifier</th>\n",
              "      <th>Item_Outlet_Sales</th>\n",
              "    </tr>\n",
              "  </thead>\n",
              "  <tbody>\n",
              "    <tr>\n",
              "      <th>0</th>\n",
              "      <td>OUT027</td>\n",
              "      <td>3.453926e+06</td>\n",
              "    </tr>\n",
              "    <tr>\n",
              "      <th>1</th>\n",
              "      <td>OUT035</td>\n",
              "      <td>2.268123e+06</td>\n",
              "    </tr>\n",
              "    <tr>\n",
              "      <th>2</th>\n",
              "      <td>OUT049</td>\n",
              "      <td>2.183970e+06</td>\n",
              "    </tr>\n",
              "    <tr>\n",
              "      <th>3</th>\n",
              "      <td>OUT017</td>\n",
              "      <td>2.167465e+06</td>\n",
              "    </tr>\n",
              "    <tr>\n",
              "      <th>4</th>\n",
              "      <td>OUT013</td>\n",
              "      <td>2.142664e+06</td>\n",
              "    </tr>\n",
              "    <tr>\n",
              "      <th>5</th>\n",
              "      <td>OUT046</td>\n",
              "      <td>2.118395e+06</td>\n",
              "    </tr>\n",
              "    <tr>\n",
              "      <th>6</th>\n",
              "      <td>OUT045</td>\n",
              "      <td>2.036725e+06</td>\n",
              "    </tr>\n",
              "    <tr>\n",
              "      <th>7</th>\n",
              "      <td>OUT018</td>\n",
              "      <td>1.851823e+06</td>\n",
              "    </tr>\n",
              "    <tr>\n",
              "      <th>8</th>\n",
              "      <td>OUT010</td>\n",
              "      <td>1.883402e+05</td>\n",
              "    </tr>\n",
              "    <tr>\n",
              "      <th>9</th>\n",
              "      <td>OUT019</td>\n",
              "      <td>1.796941e+05</td>\n",
              "    </tr>\n",
              "  </tbody>\n",
              "</table>\n",
              "</div>"
            ],
            "text/plain": [
              "  Outlet_Identifier  Item_Outlet_Sales\n",
              "0            OUT027       3.453926e+06\n",
              "1            OUT035       2.268123e+06\n",
              "2            OUT049       2.183970e+06\n",
              "3            OUT017       2.167465e+06\n",
              "4            OUT013       2.142664e+06\n",
              "5            OUT046       2.118395e+06\n",
              "6            OUT045       2.036725e+06\n",
              "7            OUT018       1.851823e+06\n",
              "8            OUT010       1.883402e+05\n",
              "9            OUT019       1.796941e+05"
            ]
          },
          "metadata": {
            "tags": []
          },
          "execution_count": 69
        }
      ]
    },
    {
      "cell_type": "markdown",
      "metadata": {
        "id": "pIUxipoXhcxN"
      },
      "source": [
        "## Sales by Outlet \n",
        "\n",
        "### method 1"
      ]
    },
    {
      "cell_type": "code",
      "metadata": {
        "colab": {
          "base_uri": "https://localhost:8080/",
          "height": 324
        },
        "id": "C-DCTX_KFZS3",
        "outputId": "f66861d4-edf9-4346-fc22-76a3adcc2f2a"
      },
      "source": [
        "plt.bar(top20storeFilter['Outlet_Identifier'], top20storeFilter['Item_Outlet_Sales'], color='blue',);\n",
        "\n",
        "plt.xticks(rotation = 90,fontsize = 6);\n",
        "plt.yticks(rotation = 45);\n",
        "plt.xlabel('Item', fontsize=8)\n",
        "plt.ylabel('Amount', fontsize= 8)\n",
        "plt.title('Sales by Item ', fontsize = 10)\n",
        "plt.legend(loc=(1.02,0));\n",
        "plt.grid(axis = 'y')"
      ],
      "execution_count": 71,
      "outputs": [
        {
          "output_type": "stream",
          "text": [
            "No handles with labels found to put in legend.\n"
          ],
          "name": "stderr"
        },
        {
          "output_type": "display_data",
          "data": {
            "image/png": "[encoded data removed]",
            "text/plain": [
              "<Figure size 432x288 with 1 Axes>"
            ]
          },
          "metadata": {
            "tags": [],
            "needs_background": "light"
          }
        }
      ]
    },
    {
      "cell_type": "markdown",
      "metadata": {
        "id": "GetxxImWhqhD"
      },
      "source": [
        "## Sales by Outlet \n",
        "\n",
        "### method 2"
      ]
    },
    {
      "cell_type": "code",
      "metadata": {
        "colab": {
          "base_uri": "https://localhost:8080/",
          "height": 324
        },
        "id": "yTq101U6K3pW",
        "outputId": "c19112be-88a1-4f3d-97d3-4b7c7805bc7f"
      },
      "source": [
        "plt.bar(top20storeFilter.index,top20storeFilter.values)\n",
        "\n",
        "plt.xticks(rotation = 90,fontsize = 6);\n",
        "plt.yticks(rotation = 45);\n",
        "plt.xlabel('Item', fontsize=8)\n",
        "plt.ylabel('Amount', fontsize= 8)\n",
        "plt.title('Sales by Item ', fontsize = 10)\n",
        "plt.legend(loc=(1.02,0));\n",
        "plt.grid(axis = 'y')"
      ],
      "execution_count": 53,
      "outputs": [
        {
          "output_type": "stream",
          "text": [
            "No handles with labels found to put in legend.\n"
          ],
          "name": "stderr"
        },
        {
          "output_type": "display_data",
          "data": {
            "image/png": "[encoded data removed]",
            "text/plain": [
              "<Figure size 432x288 with 1 Axes>"
            ]
          },
          "metadata": {
            "tags": [],
            "needs_background": "light"
          }
        }
      ]
    },
    {
      "cell_type": "markdown",
      "metadata": {
        "id": "CTO_3gNfhs5S"
      },
      "source": [
        "## Sales by fat content"
      ]
    },
    {
      "cell_type": "code",
      "metadata": {
        "colab": {
          "base_uri": "https://localhost:8080/"
        },
        "id": "vW80IrlJhtwD",
        "outputId": "f61d42ba-b79b-4e80-a486-176bd4c6416e"
      },
      "source": [
        "top20FatItemsFilter = df.groupby(['Item_Fat_Content'])['Item_Outlet_Sales'].sum().sort_values(ascending = False).head(20)\n",
        "top20FatItemsFilter"
      ],
      "execution_count": 75,
      "outputs": [
        {
          "output_type": "execute_result",
          "data": {
            "text/plain": [
              "Item_Fat_Content\n",
              "Low Fat    1.190409e+07\n",
              "Regular    6.687031e+06\n",
              "Name: Item_Outlet_Sales, dtype: float64"
            ]
          },
          "metadata": {
            "tags": []
          },
          "execution_count": 75
        }
      ]
    },
    {
      "cell_type": "code",
      "metadata": {
        "colab": {
          "base_uri": "https://localhost:8080/",
          "height": 323
        },
        "id": "lrzew_Rih8KP",
        "outputId": "72497b14-32e8-48df-9e30-a188588c3025"
      },
      "source": [
        "plt.bar(top20FatItemsFilter.index,top20FatItemsFilter.values)\n",
        "\n",
        "plt.xticks(rotation = 90,fontsize = 6);\n",
        "plt.yticks(rotation = 45);\n",
        "plt.xlabel('Item', fontsize=8)\n",
        "plt.ylabel('Amount', fontsize= 8)\n",
        "plt.title('Sales by Item ', fontsize = 10)\n",
        "plt.legend(loc=(1.02,0));\n",
        "plt.grid(axis = 'y')"
      ],
      "execution_count": 78,
      "outputs": [
        {
          "output_type": "stream",
          "text": [
            "No handles with labels found to put in legend.\n"
          ],
          "name": "stderr"
        },
        {
          "output_type": "display_data",
          "data": {
            "image/png": "[encoded data removed]",
            "text/plain": [
              "<Figure size 432x288 with 1 Axes>"
            ]
          },
          "metadata": {
            "tags": [],
            "needs_background": "light"
          }
        }
      ]
    }
  ]
}